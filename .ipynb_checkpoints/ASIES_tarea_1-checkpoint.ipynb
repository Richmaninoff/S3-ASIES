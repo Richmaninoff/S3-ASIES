{
 "cells": [
  {
   "cell_type": "code",
   "execution_count": 1,
   "metadata": {
    "id": "rsXFtuvQKlTk"
   },
   "outputs": [],
   "source": [
    "#<a target=\"_blank\" href=\"https://colab.research.google.com/github/https://colab.research.google.com/drive/1ZKzX9jH_-9qrIXVed43m8jn7exE1P9Ry?usp=sharing\">\n",
    "#  <img src=\"https://colab.research.google.com/assets/colab-badge.svg\" alt=\"Open In Colab\"/>\n",
    "#</a>"
   ]
  },
  {
   "cell_type": "markdown",
   "metadata": {
    "id": "4vILLn8jdtFV"
   },
   "source": [
    "TAREA 1"
   ]
  },
  {
   "cell_type": "markdown",
   "metadata": {
    "id": "kJRZsot6glq-"
   },
   "source": [
    "presentar usando logaritmo cuando hay muchos picos\n",
    "\n",
    "Con un formato W -> convertir"
   ]
  },
  {
   "cell_type": "markdown",
   "metadata": {
    "id": "HFRzUbcK3uC4"
   },
   "source": [
    "A.Responda: La edad media del contagiado de dengue vario a través de los años? Fue lo mismo segun gravedad?\n",
    "\n",
    "B. Responda: La cantidad de casos  vario a través de los años? Fue lo mismo segun gravedad?\n",
    "\n",
    "C.Responda: Cuales fueron las provincias mas afectadas con contagiados a lo largo de los años?\n",
    "\n",
    "D. Responda: Qué relación habia entre los casos alarmantes no graves y los asintomaticos segun departamento a lo largo de los años?\n"
   ]
  },
  {
   "cell_type": "markdown",
   "metadata": {
    "id": "G79rNaE00fGY"
   },
   "source": [
    "### 1. Elementos esenciales"
   ]
  },
  {
   "cell_type": "code",
   "execution_count": 2,
   "metadata": {
    "id": "oUs4I9ordRVY"
   },
   "outputs": [],
   "source": [
    "import os\n",
    "import pandas as pd\n",
    "import pickle"
   ]
  },
  {
   "cell_type": "markdown",
   "metadata": {
    "id": "RMA5QkeqOV0C"
   },
   "source": [
    "##DATA"
   ]
  },
  {
   "cell_type": "code",
   "execution_count": 3,
   "metadata": {
    "id": "b0ea8BNodn39"
   },
   "outputs": [],
   "source": [
    "Data=\"https://github.com/SocialAnalytics-StrategicIntelligence/TableOperations/raw/main/dataFiles/ByYear_LongStats.pkl\"\n"
   ]
  },
  {
   "cell_type": "code",
   "execution_count": 4,
   "metadata": {
    "id": "LS99uvr11MKb"
   },
   "outputs": [],
   "source": [
    "Datita = pd.read_pickle(Data) # se crea el objeto DF para realizar"
   ]
  },
  {
   "cell_type": "code",
   "execution_count": 5,
   "metadata": {
    "colab": {
     "base_uri": "https://localhost:8080/",
     "height": 423
    },
    "id": "3FRJpW1APBxk",
    "outputId": "ff21970e-4b3c-4f78-8b84-e655b10a7587"
   },
   "outputs": [
    {
     "data": {
      "text/html": [
       "<div>\n",
       "<style scoped>\n",
       "    .dataframe tbody tr th:only-of-type {\n",
       "        vertical-align: middle;\n",
       "    }\n",
       "\n",
       "    .dataframe tbody tr th {\n",
       "        vertical-align: top;\n",
       "    }\n",
       "\n",
       "    .dataframe thead th {\n",
       "        text-align: right;\n",
       "    }\n",
       "</style>\n",
       "<table border=\"1\" class=\"dataframe\">\n",
       "  <thead>\n",
       "    <tr style=\"text-align: right;\">\n",
       "      <th></th>\n",
       "      <th>ano</th>\n",
       "      <th>enfermedad</th>\n",
       "      <th>statsName</th>\n",
       "      <th>statsValue</th>\n",
       "    </tr>\n",
       "  </thead>\n",
       "  <tbody>\n",
       "    <tr>\n",
       "      <th>0</th>\n",
       "      <td>2000</td>\n",
       "      <td>SIN_SEÑALES</td>\n",
       "      <td>edad_mean</td>\n",
       "      <td>29.508788</td>\n",
       "    </tr>\n",
       "    <tr>\n",
       "      <th>1</th>\n",
       "      <td>2000</td>\n",
       "      <td>SIN_SEÑALES</td>\n",
       "      <td>edad_median</td>\n",
       "      <td>27.000000</td>\n",
       "    </tr>\n",
       "    <tr>\n",
       "      <th>2</th>\n",
       "      <td>2000</td>\n",
       "      <td>SIN_SEÑALES</td>\n",
       "      <td>case_sum</td>\n",
       "      <td>4324.000000</td>\n",
       "    </tr>\n",
       "    <tr>\n",
       "      <th>3</th>\n",
       "      <td>2001</td>\n",
       "      <td>SIN_SEÑALES</td>\n",
       "      <td>edad_mean</td>\n",
       "      <td>30.634282</td>\n",
       "    </tr>\n",
       "    <tr>\n",
       "      <th>4</th>\n",
       "      <td>2001</td>\n",
       "      <td>SIN_SEÑALES</td>\n",
       "      <td>edad_median</td>\n",
       "      <td>28.000000</td>\n",
       "    </tr>\n",
       "    <tr>\n",
       "      <th>...</th>\n",
       "      <td>...</td>\n",
       "      <td>...</td>\n",
       "      <td>...</td>\n",
       "      <td>...</td>\n",
       "    </tr>\n",
       "    <tr>\n",
       "      <th>172</th>\n",
       "      <td>2022</td>\n",
       "      <td>ALARMA</td>\n",
       "      <td>edad_median</td>\n",
       "      <td>25.000000</td>\n",
       "    </tr>\n",
       "    <tr>\n",
       "      <th>173</th>\n",
       "      <td>2022</td>\n",
       "      <td>ALARMA</td>\n",
       "      <td>case_sum</td>\n",
       "      <td>7370.000000</td>\n",
       "    </tr>\n",
       "    <tr>\n",
       "      <th>174</th>\n",
       "      <td>2022</td>\n",
       "      <td>GRAVE</td>\n",
       "      <td>edad_mean</td>\n",
       "      <td>35.146226</td>\n",
       "    </tr>\n",
       "    <tr>\n",
       "      <th>175</th>\n",
       "      <td>2022</td>\n",
       "      <td>GRAVE</td>\n",
       "      <td>edad_median</td>\n",
       "      <td>32.000000</td>\n",
       "    </tr>\n",
       "    <tr>\n",
       "      <th>176</th>\n",
       "      <td>2022</td>\n",
       "      <td>GRAVE</td>\n",
       "      <td>case_sum</td>\n",
       "      <td>212.000000</td>\n",
       "    </tr>\n",
       "  </tbody>\n",
       "</table>\n",
       "<p>177 rows × 4 columns</p>\n",
       "</div>"
      ],
      "text/plain": [
       "      ano   enfermedad    statsName   statsValue\n",
       "0    2000  SIN_SEÑALES    edad_mean    29.508788\n",
       "1    2000  SIN_SEÑALES  edad_median    27.000000\n",
       "2    2000  SIN_SEÑALES     case_sum  4324.000000\n",
       "3    2001  SIN_SEÑALES    edad_mean    30.634282\n",
       "4    2001  SIN_SEÑALES  edad_median    28.000000\n",
       "..    ...          ...          ...          ...\n",
       "172  2022       ALARMA  edad_median    25.000000\n",
       "173  2022       ALARMA     case_sum  7370.000000\n",
       "174  2022        GRAVE    edad_mean    35.146226\n",
       "175  2022        GRAVE  edad_median    32.000000\n",
       "176  2022        GRAVE     case_sum   212.000000\n",
       "\n",
       "[177 rows x 4 columns]"
      ]
     },
     "execution_count": 5,
     "metadata": {},
     "output_type": "execute_result"
    }
   ],
   "source": [
    "Datita"
   ]
  },
  {
   "cell_type": "code",
   "execution_count": 6,
   "metadata": {
    "id": "glAewUT59PPm"
   },
   "outputs": [],
   "source": [
    "DF=pd.DataFrame(Datita) #convertimos a data frame para mejor manipulabilidad"
   ]
  },
  {
   "cell_type": "code",
   "execution_count": 7,
   "metadata": {
    "id": "2s18WpcAQt21"
   },
   "outputs": [],
   "source": [
    "Datacompleta=\"https://github.com/SocialAnalytics-StrategicIntelligence/TableOperations/raw/main/dataFiles/dengue_ok.pkl\"\n",
    "Dati2= pd.read_pickle(Datacompleta)\n",
    "DFII=pd.DataFrame(Dati2)"
   ]
  },
  {
   "cell_type": "code",
   "execution_count": 8,
   "metadata": {
    "colab": {
     "base_uri": "https://localhost:8080/",
     "height": 423
    },
    "id": "PwoTIhXxPgXI",
    "outputId": "dfc5882c-7270-49b7-9c9a-221d81e0f45d"
   },
   "outputs": [
    {
     "data": {
      "text/html": [
       "<div>\n",
       "<style scoped>\n",
       "    .dataframe tbody tr th:only-of-type {\n",
       "        vertical-align: middle;\n",
       "    }\n",
       "\n",
       "    .dataframe tbody tr th {\n",
       "        vertical-align: top;\n",
       "    }\n",
       "\n",
       "    .dataframe thead th {\n",
       "        text-align: right;\n",
       "    }\n",
       "</style>\n",
       "<table border=\"1\" class=\"dataframe\">\n",
       "  <thead>\n",
       "    <tr style=\"text-align: right;\">\n",
       "      <th></th>\n",
       "      <th>departamento</th>\n",
       "      <th>provincia</th>\n",
       "      <th>distrito</th>\n",
       "      <th>ano</th>\n",
       "      <th>semana</th>\n",
       "      <th>sexo</th>\n",
       "      <th>edad</th>\n",
       "      <th>enfermedad</th>\n",
       "      <th>year</th>\n",
       "    </tr>\n",
       "  </thead>\n",
       "  <tbody>\n",
       "    <tr>\n",
       "      <th>0</th>\n",
       "      <td>HUANUCO</td>\n",
       "      <td>LEONCIO PRADO</td>\n",
       "      <td>LUYANDO</td>\n",
       "      <td>2000</td>\n",
       "      <td>47</td>\n",
       "      <td>M</td>\n",
       "      <td>9</td>\n",
       "      <td>SIN_SEÑALES</td>\n",
       "      <td>2000-01-01</td>\n",
       "    </tr>\n",
       "    <tr>\n",
       "      <th>1</th>\n",
       "      <td>HUANUCO</td>\n",
       "      <td>LEONCIO PRADO</td>\n",
       "      <td>LUYANDO</td>\n",
       "      <td>2000</td>\n",
       "      <td>40</td>\n",
       "      <td>F</td>\n",
       "      <td>18</td>\n",
       "      <td>SIN_SEÑALES</td>\n",
       "      <td>2000-01-01</td>\n",
       "    </tr>\n",
       "    <tr>\n",
       "      <th>2</th>\n",
       "      <td>HUANUCO</td>\n",
       "      <td>LEONCIO PRADO</td>\n",
       "      <td>JOSE CRESPO Y CASTILLO</td>\n",
       "      <td>2000</td>\n",
       "      <td>48</td>\n",
       "      <td>F</td>\n",
       "      <td>32</td>\n",
       "      <td>SIN_SEÑALES</td>\n",
       "      <td>2000-01-01</td>\n",
       "    </tr>\n",
       "    <tr>\n",
       "      <th>3</th>\n",
       "      <td>HUANUCO</td>\n",
       "      <td>LEONCIO PRADO</td>\n",
       "      <td>JOSE CRESPO Y CASTILLO</td>\n",
       "      <td>2000</td>\n",
       "      <td>37</td>\n",
       "      <td>F</td>\n",
       "      <td>40</td>\n",
       "      <td>SIN_SEÑALES</td>\n",
       "      <td>2000-01-01</td>\n",
       "    </tr>\n",
       "    <tr>\n",
       "      <th>4</th>\n",
       "      <td>HUANUCO</td>\n",
       "      <td>LEONCIO PRADO</td>\n",
       "      <td>MARIANO DAMASO BERAUN</td>\n",
       "      <td>2000</td>\n",
       "      <td>42</td>\n",
       "      <td>M</td>\n",
       "      <td>16</td>\n",
       "      <td>SIN_SEÑALES</td>\n",
       "      <td>2000-01-01</td>\n",
       "    </tr>\n",
       "    <tr>\n",
       "      <th>...</th>\n",
       "      <td>...</td>\n",
       "      <td>...</td>\n",
       "      <td>...</td>\n",
       "      <td>...</td>\n",
       "      <td>...</td>\n",
       "      <td>...</td>\n",
       "      <td>...</td>\n",
       "      <td>...</td>\n",
       "      <td>...</td>\n",
       "    </tr>\n",
       "    <tr>\n",
       "      <th>398938</th>\n",
       "      <td>SAN MARTIN</td>\n",
       "      <td>SAN MARTIN</td>\n",
       "      <td>TARAPOTO</td>\n",
       "      <td>2022</td>\n",
       "      <td>13</td>\n",
       "      <td>M</td>\n",
       "      <td>17</td>\n",
       "      <td>SIN_SEÑALES</td>\n",
       "      <td>2022-01-01</td>\n",
       "    </tr>\n",
       "    <tr>\n",
       "      <th>398939</th>\n",
       "      <td>PIURA</td>\n",
       "      <td>SECHURA</td>\n",
       "      <td>SECHURA</td>\n",
       "      <td>2022</td>\n",
       "      <td>13</td>\n",
       "      <td>F</td>\n",
       "      <td>48</td>\n",
       "      <td>SIN_SEÑALES</td>\n",
       "      <td>2022-01-01</td>\n",
       "    </tr>\n",
       "    <tr>\n",
       "      <th>398940</th>\n",
       "      <td>PIURA</td>\n",
       "      <td>PIURA</td>\n",
       "      <td>LA UNION</td>\n",
       "      <td>2022</td>\n",
       "      <td>52</td>\n",
       "      <td>M</td>\n",
       "      <td>24</td>\n",
       "      <td>SIN_SEÑALES</td>\n",
       "      <td>2022-01-01</td>\n",
       "    </tr>\n",
       "    <tr>\n",
       "      <th>398941</th>\n",
       "      <td>LORETO</td>\n",
       "      <td>MAYNAS</td>\n",
       "      <td>IQUITOS</td>\n",
       "      <td>2022</td>\n",
       "      <td>51</td>\n",
       "      <td>M</td>\n",
       "      <td>26</td>\n",
       "      <td>SIN_SEÑALES</td>\n",
       "      <td>2022-01-01</td>\n",
       "    </tr>\n",
       "    <tr>\n",
       "      <th>398942</th>\n",
       "      <td>SAN MARTIN</td>\n",
       "      <td>SAN MARTIN</td>\n",
       "      <td>LA BANDA DE SHILCAYO</td>\n",
       "      <td>2022</td>\n",
       "      <td>47</td>\n",
       "      <td>F</td>\n",
       "      <td>25</td>\n",
       "      <td>SIN_SEÑALES</td>\n",
       "      <td>2022-01-01</td>\n",
       "    </tr>\n",
       "  </tbody>\n",
       "</table>\n",
       "<p>398943 rows × 9 columns</p>\n",
       "</div>"
      ],
      "text/plain": [
       "       departamento      provincia                distrito   ano  semana sexo  \\\n",
       "0           HUANUCO  LEONCIO PRADO                 LUYANDO  2000      47    M   \n",
       "1           HUANUCO  LEONCIO PRADO                 LUYANDO  2000      40    F   \n",
       "2           HUANUCO  LEONCIO PRADO  JOSE CRESPO Y CASTILLO  2000      48    F   \n",
       "3           HUANUCO  LEONCIO PRADO  JOSE CRESPO Y CASTILLO  2000      37    F   \n",
       "4           HUANUCO  LEONCIO PRADO   MARIANO DAMASO BERAUN  2000      42    M   \n",
       "...             ...            ...                     ...   ...     ...  ...   \n",
       "398938   SAN MARTIN     SAN MARTIN                TARAPOTO  2022      13    M   \n",
       "398939        PIURA        SECHURA                 SECHURA  2022      13    F   \n",
       "398940        PIURA          PIURA                LA UNION  2022      52    M   \n",
       "398941       LORETO         MAYNAS                 IQUITOS  2022      51    M   \n",
       "398942   SAN MARTIN     SAN MARTIN    LA BANDA DE SHILCAYO  2022      47    F   \n",
       "\n",
       "        edad   enfermedad       year  \n",
       "0          9  SIN_SEÑALES 2000-01-01  \n",
       "1         18  SIN_SEÑALES 2000-01-01  \n",
       "2         32  SIN_SEÑALES 2000-01-01  \n",
       "3         40  SIN_SEÑALES 2000-01-01  \n",
       "4         16  SIN_SEÑALES 2000-01-01  \n",
       "...      ...          ...        ...  \n",
       "398938    17  SIN_SEÑALES 2022-01-01  \n",
       "398939    48  SIN_SEÑALES 2022-01-01  \n",
       "398940    24  SIN_SEÑALES 2022-01-01  \n",
       "398941    26  SIN_SEÑALES 2022-01-01  \n",
       "398942    25  SIN_SEÑALES 2022-01-01  \n",
       "\n",
       "[398943 rows x 9 columns]"
      ]
     },
     "execution_count": 8,
     "metadata": {},
     "output_type": "execute_result"
    }
   ],
   "source": [
    "DFII"
   ]
  },
  {
   "cell_type": "code",
   "execution_count": 9,
   "metadata": {
    "id": "hDDPImUe8IP2"
   },
   "outputs": [],
   "source": [
    "DF1 = DF.rename(columns={\"meanage\":\"edad\",\"statsName\":\"tipo_valor\"},inplace=True)\n"
   ]
  },
  {
   "cell_type": "code",
   "execution_count": 10,
   "metadata": {
    "id": "OiEc3R_XHuS4"
   },
   "outputs": [],
   "source": [
    "denguelink3='https://raw.githubusercontent.com/SocialAnalytics-StrategicIntelligence/TableOperations/main/dataFiles/ByYearPlace.pkl'\n",
    "Dati3= pd.read_pickle(denguelink3)\n",
    "preg_d=pd.DataFrame(Dati3)"
   ]
  },
  {
   "cell_type": "code",
   "execution_count": 11,
   "metadata": {
    "id": "n_-KlHzh9lFG"
   },
   "outputs": [],
   "source": [
    "DF1"
   ]
  },
  {
   "cell_type": "code",
   "execution_count": 12,
   "metadata": {
    "colab": {
     "base_uri": "https://localhost:8080/"
    },
    "id": "ukB-zYan1HmY",
    "outputId": "e0e5c509-7d99-42c3-ac2d-24deadf29f88"
   },
   "outputs": [
    {
     "name": "stdout",
     "output_type": "stream",
     "text": [
      "<class 'pandas.core.frame.DataFrame'>\n",
      "RangeIndex: 177 entries, 0 to 176\n",
      "Data columns (total 4 columns):\n",
      " #   Column      Non-Null Count  Dtype   \n",
      "---  ------      --------------  -----   \n",
      " 0   ano         177 non-null    int64   \n",
      " 1   enfermedad  177 non-null    category\n",
      " 2   tipo_valor  177 non-null    object  \n",
      " 3   statsValue  177 non-null    float64 \n",
      "dtypes: category(1), float64(1), int64(1), object(1)\n",
      "memory usage: 4.6+ KB\n"
     ]
    }
   ],
   "source": [
    "DF.info()"
   ]
  },
  {
   "cell_type": "code",
   "execution_count": 13,
   "metadata": {
    "colab": {
     "base_uri": "https://localhost:8080/"
    },
    "id": "F9E3oQfnEKcE",
    "outputId": "8347c366-ba86-4a33-a770-2b6f4f67167f"
   },
   "outputs": [
    {
     "data": {
      "text/plain": [
       "(177, 4)"
      ]
     },
     "execution_count": 13,
     "metadata": {},
     "output_type": "execute_result"
    }
   ],
   "source": [
    "DF.shape"
   ]
  },
  {
   "cell_type": "markdown",
   "metadata": {
    "id": "3ceFkUgi5HhR"
   },
   "source": [
    "La información procesada en esta data muestra que el DF tiene 4 variables y 117  datos"
   ]
  },
  {
   "cell_type": "code",
   "execution_count": 14,
   "metadata": {
    "id": "VVTl_7RShZhv"
   },
   "outputs": [],
   "source": [
    "DF = DF.assign(case=1) #para crear una columna que permita contar los casos, etc."
   ]
  },
  {
   "cell_type": "markdown",
   "metadata": {
    "id": "oHQm7xBs4Av_"
   },
   "source": [
    "## Parte 1: preguntas A y B\n",
    "  A. La edad media del contagiado de dengue vario a través de los años? Fue lo mismo segun gravedad?\n",
    "\n",
    "  B. Responda: La cantidad de casos  vario a través de los años? Fue lo mismo segun gravedad?\n",
    "\n",
    "Ambas preguntas se pueden responder visualizando la tabla de la evolución de la enfermedad, al igual que con una gráfica lineal de facetas o faceteada según las medidas.Antes de procesar las variables, es conveniente visualizar la forma de cada uno.A continuación las categorias según la gravedad de la enfermedad"
   ]
  },
  {
   "cell_type": "markdown",
   "metadata": {
    "id": "AJ8Y4-NOFLfK"
   },
   "source": []
  },
  {
   "cell_type": "code",
   "execution_count": 15,
   "metadata": {
    "colab": {
     "base_uri": "https://localhost:8080/"
    },
    "id": "B8dcVuEiF2r_",
    "outputId": "c47fd88b-0370-4dbb-d8d2-4ff6e4ac5a8b"
   },
   "outputs": [
    {
     "data": {
      "text/plain": [
       "SIN_SEÑALES    69\n",
       "GRAVE          66\n",
       "ALARMA         42\n",
       "Name: enfermedad, dtype: int64"
      ]
     },
     "execution_count": 15,
     "metadata": {},
     "output_type": "execute_result"
    }
   ],
   "source": [
    "DF[\"enfermedad\"].value_counts()"
   ]
  },
  {
   "cell_type": "markdown",
   "metadata": {
    "id": "UsmNu1o8GPeC"
   },
   "source": []
  },
  {
   "cell_type": "code",
   "execution_count": 16,
   "metadata": {
    "colab": {
     "base_uri": "https://localhost:8080/"
    },
    "id": "TqxlJq4cmL10",
    "outputId": "74bf57f0-4446-49e5-b5ed-c683fcfa8e13"
   },
   "outputs": [
    {
     "data": {
      "text/plain": [
       "0      2000\n",
       "1      2000\n",
       "2      2000\n",
       "3      2001\n",
       "4      2001\n",
       "       ... \n",
       "172    2022\n",
       "173    2022\n",
       "174    2022\n",
       "175    2022\n",
       "176    2022\n",
       "Name: ano, Length: 177, dtype: int64"
      ]
     },
     "execution_count": 16,
     "metadata": {},
     "output_type": "execute_result"
    }
   ],
   "source": [
    "DF[\"ano\"]"
   ]
  },
  {
   "cell_type": "code",
   "execution_count": 17,
   "metadata": {
    "colab": {
     "base_uri": "https://localhost:8080/"
    },
    "id": "3PMpIe8rE8v4",
    "outputId": "4e7c7f0a-e1ad-4655-88f2-3393f40d9a9d"
   },
   "outputs": [
    {
     "data": {
      "text/plain": [
       "0      SIN_SEÑALES\n",
       "1      SIN_SEÑALES\n",
       "2      SIN_SEÑALES\n",
       "3      SIN_SEÑALES\n",
       "4      SIN_SEÑALES\n",
       "          ...     \n",
       "172         ALARMA\n",
       "173         ALARMA\n",
       "174          GRAVE\n",
       "175          GRAVE\n",
       "176          GRAVE\n",
       "Name: enfermedad, Length: 177, dtype: category\n",
       "Categories (3, object): ['SIN_SEÑALES' < 'ALARMA' < 'GRAVE']"
      ]
     },
     "execution_count": 17,
     "metadata": {},
     "output_type": "execute_result"
    }
   ],
   "source": [
    "DF[\"enfermedad\"]"
   ]
  },
  {
   "cell_type": "code",
   "execution_count": 18,
   "metadata": {
    "colab": {
     "base_uri": "https://localhost:8080/"
    },
    "id": "EvLrfN3museC",
    "outputId": "4ae89f4b-01aa-4126-889a-c7f2dc9c75c7"
   },
   "outputs": [
    {
     "name": "stdout",
     "output_type": "stream",
     "text": [
      "count      177.000000\n",
      "mean      2272.162135\n",
      "std       6761.714935\n",
      "min          1.000000\n",
      "25%         26.754755\n",
      "50%         29.680556\n",
      "75%        123.000000\n",
      "max      48625.000000\n",
      "Name: statsValue, dtype: float64\n"
     ]
    }
   ],
   "source": [
    "resumen = DF[\"statsValue\"].describe() #statsValue=edad promedio\n",
    "print(resumen)"
   ]
  },
  {
   "cell_type": "code",
   "execution_count": 19,
   "metadata": {
    "id": "H8RzVUs9qWbp"
   },
   "outputs": [],
   "source": [
    "tabla1=DF.groupby(\"ano\")[\"statsValue\"].mean()"
   ]
  },
  {
   "cell_type": "code",
   "execution_count": 20,
   "metadata": {
    "colab": {
     "base_uri": "https://localhost:8080/"
    },
    "id": "5tk8SD_prdba",
    "outputId": "fcaa832b-29f0-4463-ae8d-6538687d0689"
   },
   "outputs": [
    {
     "name": "stdout",
     "output_type": "stream",
     "text": [
      "ano\n",
      "2000    1460.169596\n",
      "2001    2701.701149\n",
      "2002     712.098750\n",
      "2003     498.157953\n",
      "2004    1343.276231\n",
      "2005     852.070756\n",
      "2006     617.072710\n",
      "2007     908.827043\n",
      "2008    1772.047311\n",
      "2009    1895.151334\n",
      "2010    1403.497226\n",
      "2011    1710.564385\n",
      "2012    2324.781058\n",
      "2013    1355.391344\n",
      "2014    1743.110107\n",
      "2015    3294.975068\n",
      "2016    2560.392011\n",
      "2017    4808.018349\n",
      "2018     525.011432\n",
      "2019    1484.220985\n",
      "2020    4434.152193\n",
      "2021    4519.080190\n",
      "2022    6264.969377\n",
      "Name: statsValue, dtype: float64\n"
     ]
    }
   ],
   "source": [
    "#primero visualizamos la tabla con las medias de la población por el año. Felizmente el año está es un formato apropiado.\n",
    "print (tabla1)"
   ]
  },
  {
   "cell_type": "code",
   "execution_count": 21,
   "metadata": {
    "colab": {
     "base_uri": "https://localhost:8080/",
     "height": 317
    },
    "id": "UxCklUAb2b-H",
    "outputId": "1353c039-9bfd-45f9-d0db-72116e96fe36"
   },
   "outputs": [
    {
     "ename": "KeyError",
     "evalue": "\"Column(s) ['edad'] do not exist\"",
     "output_type": "error",
     "traceback": [
      "\u001b[1;31m---------------------------------------------------------------------------\u001b[0m",
      "\u001b[1;31mKeyError\u001b[0m                                  Traceback (most recent call last)",
      "Cell \u001b[1;32mIn[21], line 1\u001b[0m\n\u001b[1;32m----> 1\u001b[0m Tabla2 \u001b[38;5;241m=\u001b[39m DF\u001b[38;5;241m.\u001b[39mgroupby(\u001b[38;5;124m\"\u001b[39m\u001b[38;5;124mano\u001b[39m\u001b[38;5;124m\"\u001b[39m)\u001b[38;5;241m.\u001b[39magg(media\u001b[38;5;241m=\u001b[39m(\u001b[38;5;124m\"\u001b[39m\u001b[38;5;124medad\u001b[39m\u001b[38;5;124m\"\u001b[39m, \u001b[38;5;124m\"\u001b[39m\u001b[38;5;124mmean\u001b[39m\u001b[38;5;124m\"\u001b[39m))\u001b[38;5;241m.\u001b[39mreset_index()\n\u001b[0;32m      2\u001b[0m \u001b[38;5;28mprint\u001b[39m(Tabla2)\n",
      "File \u001b[1;32m~\\anaconda3\\Lib\\site-packages\\pandas\\core\\groupby\\generic.py:895\u001b[0m, in \u001b[0;36mDataFrameGroupBy.aggregate\u001b[1;34m(self, func, engine, engine_kwargs, *args, **kwargs)\u001b[0m\n\u001b[0;32m    892\u001b[0m func \u001b[38;5;241m=\u001b[39m maybe_mangle_lambdas(func)\n\u001b[0;32m    894\u001b[0m op \u001b[38;5;241m=\u001b[39m GroupByApply(\u001b[38;5;28mself\u001b[39m, func, args, kwargs)\n\u001b[1;32m--> 895\u001b[0m result \u001b[38;5;241m=\u001b[39m op\u001b[38;5;241m.\u001b[39magg()\n\u001b[0;32m    896\u001b[0m \u001b[38;5;28;01mif\u001b[39;00m \u001b[38;5;129;01mnot\u001b[39;00m is_dict_like(func) \u001b[38;5;129;01mand\u001b[39;00m result \u001b[38;5;129;01mis\u001b[39;00m \u001b[38;5;129;01mnot\u001b[39;00m \u001b[38;5;28;01mNone\u001b[39;00m:\n\u001b[0;32m    897\u001b[0m     \u001b[38;5;28;01mreturn\u001b[39;00m result\n",
      "File \u001b[1;32m~\\anaconda3\\Lib\\site-packages\\pandas\\core\\apply.py:172\u001b[0m, in \u001b[0;36mApply.agg\u001b[1;34m(self)\u001b[0m\n\u001b[0;32m    169\u001b[0m     \u001b[38;5;28;01mreturn\u001b[39;00m \u001b[38;5;28mself\u001b[39m\u001b[38;5;241m.\u001b[39mapply_str()\n\u001b[0;32m    171\u001b[0m \u001b[38;5;28;01mif\u001b[39;00m is_dict_like(arg):\n\u001b[1;32m--> 172\u001b[0m     \u001b[38;5;28;01mreturn\u001b[39;00m \u001b[38;5;28mself\u001b[39m\u001b[38;5;241m.\u001b[39magg_dict_like()\n\u001b[0;32m    173\u001b[0m \u001b[38;5;28;01melif\u001b[39;00m is_list_like(arg):\n\u001b[0;32m    174\u001b[0m     \u001b[38;5;66;03m# we require a list, but not a 'str'\u001b[39;00m\n\u001b[0;32m    175\u001b[0m     \u001b[38;5;28;01mreturn\u001b[39;00m \u001b[38;5;28mself\u001b[39m\u001b[38;5;241m.\u001b[39magg_list_like()\n",
      "File \u001b[1;32m~\\anaconda3\\Lib\\site-packages\\pandas\\core\\apply.py:496\u001b[0m, in \u001b[0;36mApply.agg_dict_like\u001b[1;34m(self)\u001b[0m\n\u001b[0;32m    493\u001b[0m     selected_obj \u001b[38;5;241m=\u001b[39m obj\u001b[38;5;241m.\u001b[39m_selected_obj\n\u001b[0;32m    494\u001b[0m     selection \u001b[38;5;241m=\u001b[39m obj\u001b[38;5;241m.\u001b[39m_selection\n\u001b[1;32m--> 496\u001b[0m arg \u001b[38;5;241m=\u001b[39m \u001b[38;5;28mself\u001b[39m\u001b[38;5;241m.\u001b[39mnormalize_dictlike_arg(\u001b[38;5;124m\"\u001b[39m\u001b[38;5;124magg\u001b[39m\u001b[38;5;124m\"\u001b[39m, selected_obj, arg)\n\u001b[0;32m    498\u001b[0m \u001b[38;5;28;01mif\u001b[39;00m selected_obj\u001b[38;5;241m.\u001b[39mndim \u001b[38;5;241m==\u001b[39m \u001b[38;5;241m1\u001b[39m:\n\u001b[0;32m    499\u001b[0m     \u001b[38;5;66;03m# key only used for output\u001b[39;00m\n\u001b[0;32m    500\u001b[0m     colg \u001b[38;5;241m=\u001b[39m obj\u001b[38;5;241m.\u001b[39m_gotitem(selection, ndim\u001b[38;5;241m=\u001b[39m\u001b[38;5;241m1\u001b[39m)\n",
      "File \u001b[1;32m~\\anaconda3\\Lib\\site-packages\\pandas\\core\\apply.py:619\u001b[0m, in \u001b[0;36mApply.normalize_dictlike_arg\u001b[1;34m(self, how, obj, func)\u001b[0m\n\u001b[0;32m    617\u001b[0m     \u001b[38;5;28;01mif\u001b[39;00m \u001b[38;5;28mlen\u001b[39m(cols) \u001b[38;5;241m>\u001b[39m \u001b[38;5;241m0\u001b[39m:\n\u001b[0;32m    618\u001b[0m         cols_sorted \u001b[38;5;241m=\u001b[39m \u001b[38;5;28mlist\u001b[39m(safe_sort(\u001b[38;5;28mlist\u001b[39m(cols)))\n\u001b[1;32m--> 619\u001b[0m         \u001b[38;5;28;01mraise\u001b[39;00m \u001b[38;5;167;01mKeyError\u001b[39;00m(\u001b[38;5;124mf\u001b[39m\u001b[38;5;124m\"\u001b[39m\u001b[38;5;124mColumn(s) \u001b[39m\u001b[38;5;132;01m{\u001b[39;00mcols_sorted\u001b[38;5;132;01m}\u001b[39;00m\u001b[38;5;124m do not exist\u001b[39m\u001b[38;5;124m\"\u001b[39m)\n\u001b[0;32m    621\u001b[0m aggregator_types \u001b[38;5;241m=\u001b[39m (\u001b[38;5;28mlist\u001b[39m, \u001b[38;5;28mtuple\u001b[39m, \u001b[38;5;28mdict\u001b[39m)\n\u001b[0;32m    623\u001b[0m \u001b[38;5;66;03m# if we have a dict of any non-scalars\u001b[39;00m\n\u001b[0;32m    624\u001b[0m \u001b[38;5;66;03m# eg. {'A' : ['mean']}, normalize all to\u001b[39;00m\n\u001b[0;32m    625\u001b[0m \u001b[38;5;66;03m# be list-likes\u001b[39;00m\n\u001b[0;32m    626\u001b[0m \u001b[38;5;66;03m# Cannot use func.values() because arg may be a Series\u001b[39;00m\n",
      "\u001b[1;31mKeyError\u001b[0m: \"Column(s) ['edad'] do not exist\""
     ]
    }
   ],
   "source": [
    "Tabla2 = DF.groupby(\"ano\").agg(media=(\"edad\", \"mean\")).reset_index()\n",
    "print(Tabla2)"
   ]
  },
  {
   "cell_type": "code",
   "execution_count": 22,
   "metadata": {
    "id": "C4LmeUiv4S9J"
   },
   "outputs": [
    {
     "ename": "ModuleNotFoundError",
     "evalue": "No module named 'plotnine'",
     "output_type": "error",
     "traceback": [
      "\u001b[1;31m---------------------------------------------------------------------------\u001b[0m",
      "\u001b[1;31mModuleNotFoundError\u001b[0m                       Traceback (most recent call last)",
      "Cell \u001b[1;32mIn[22], line 2\u001b[0m\n\u001b[0;32m      1\u001b[0m \u001b[38;5;66;03m#luego, importamos la libreria que permitirá crear los gráficos\u001b[39;00m\n\u001b[1;32m----> 2\u001b[0m \u001b[38;5;28;01mimport\u001b[39;00m \u001b[38;5;21;01mplotnine\u001b[39;00m \u001b[38;5;28;01mas\u001b[39;00m \u001b[38;5;21;01mplot\u001b[39;00m\n",
      "\u001b[1;31mModuleNotFoundError\u001b[0m: No module named 'plotnine'"
     ]
    }
   ],
   "source": [
    "#luego, importamos la libreria que permitirá crear los gráficos\n",
    "import plotnine as plot\n"
   ]
  },
  {
   "cell_type": "code",
   "execution_count": 23,
   "metadata": {
    "id": "xbV-8bIT2tw5"
   },
   "outputs": [
    {
     "data": {
      "image/png": "[encoded data removed]",
      "text/plain": [
       "<Figure size 640x480 with 1 Axes>"
      ]
     },
     "metadata": {},
     "output_type": "display_data"
    }
   ],
   "source": [
    "import matplotlib.pyplot as plt\n",
    "\n",
    "# Supongamos que tienes un DataFrame llamado 'df' con las columnas 'x' y 'y'.\n",
    "\n",
    "plt.plot(DF['ano'], DF['statsValue'])\n",
    "plt.xlabel('años')\n",
    "plt.ylabel('promedio de edad')\n",
    "plt.title('Gráfico Lineal')\n",
    "plt.show()\n"
   ]
  },
  {
   "cell_type": "code",
   "execution_count": 24,
   "metadata": {
    "id": "vOI3WNjrF_hf"
   },
   "outputs": [
    {
     "ename": "ModuleNotFoundError",
     "evalue": "No module named 'plotnine'",
     "output_type": "error",
     "traceback": [
      "\u001b[1;31m---------------------------------------------------------------------------\u001b[0m",
      "\u001b[1;31mModuleNotFoundError\u001b[0m                       Traceback (most recent call last)",
      "Cell \u001b[1;32mIn[24], line 1\u001b[0m\n\u001b[1;32m----> 1\u001b[0m \u001b[38;5;28;01mfrom\u001b[39;00m \u001b[38;5;21;01mplotnine\u001b[39;00m \u001b[38;5;28;01mimport\u001b[39;00m ggplot, aes, geom_smooth, facet_grid, scale_y_log10, theme_light\n\u001b[0;32m      3\u001b[0m facets \u001b[38;5;241m=\u001b[39m (ggplot(data\u001b[38;5;241m=\u001b[39mDF, mapping\u001b[38;5;241m=\u001b[39maes(x\u001b[38;5;241m=\u001b[39m\u001b[38;5;124m\"\u001b[39m\u001b[38;5;124mano\u001b[39m\u001b[38;5;124m\"\u001b[39m, y\u001b[38;5;241m=\u001b[39m\u001b[38;5;124m\"\u001b[39m\u001b[38;5;124mstatsValue\u001b[39m\u001b[38;5;124m\"\u001b[39m, color\u001b[38;5;241m=\u001b[39m\u001b[38;5;124m\"\u001b[39m\u001b[38;5;124menfermedad\u001b[39m\u001b[38;5;124m\"\u001b[39m))\n\u001b[0;32m      4\u001b[0m           \u001b[38;5;241m+\u001b[39m theme_light()\n\u001b[0;32m      5\u001b[0m           \u001b[38;5;241m+\u001b[39m geom_smooth()\n\u001b[0;32m      6\u001b[0m           \u001b[38;5;241m+\u001b[39m facet_grid(\u001b[38;5;124m\"\u001b[39m\u001b[38;5;124mstatsName~.\u001b[39m\u001b[38;5;124m\"\u001b[39m, scales\u001b[38;5;241m=\u001b[39m\u001b[38;5;124m\"\u001b[39m\u001b[38;5;124mfree_y\u001b[39m\u001b[38;5;124m\"\u001b[39m))\n\u001b[0;32m      8\u001b[0m \u001b[38;5;28mprint\u001b[39m(facets)\n",
      "\u001b[1;31mModuleNotFoundError\u001b[0m: No module named 'plotnine'"
     ]
    }
   ],
   "source": [
    "from plotnine import ggplot, aes, geom_smooth, facet_grid, scale_y_log10, theme_light\n",
    "\n",
    "facets = (ggplot(data=DF, mapping=aes(x=\"ano\", y=\"statsValue\", color=\"enfermedad\"))\n",
    "          + theme_light()\n",
    "          + geom_smooth()\n",
    "          + facet_grid(\"statsName~.\", scales=\"free_y\"))\n",
    "\n",
    "print(facets)"
   ]
  },
  {
   "cell_type": "code",
   "execution_count": 25,
   "metadata": {
    "id": "zAFGo6fKCc10"
   },
   "outputs": [
    {
     "ename": "ModuleNotFoundError",
     "evalue": "No module named 'plotnine'",
     "output_type": "error",
     "traceback": [
      "\u001b[1;31m---------------------------------------------------------------------------\u001b[0m",
      "\u001b[1;31mModuleNotFoundError\u001b[0m                       Traceback (most recent call last)",
      "Cell \u001b[1;32mIn[25], line 2\u001b[0m\n\u001b[0;32m      1\u001b[0m \u001b[38;5;66;03m#Ahora un gráfico que ha logaritmizado la cantidad total de contagios\u001b[39;00m\n\u001b[1;32m----> 2\u001b[0m \u001b[38;5;28;01mfrom\u001b[39;00m \u001b[38;5;21;01mplotnine\u001b[39;00m \u001b[38;5;28;01mimport\u001b[39;00m ggplot, aes, geom_smooth, facet_grid, scale_y_log10, theme_light\n\u001b[0;32m      4\u001b[0m facets \u001b[38;5;241m=\u001b[39m (ggplot(data\u001b[38;5;241m=\u001b[39mDF, mapping\u001b[38;5;241m=\u001b[39maes(x\u001b[38;5;241m=\u001b[39m\u001b[38;5;124m\"\u001b[39m\u001b[38;5;124mano\u001b[39m\u001b[38;5;124m\"\u001b[39m, y\u001b[38;5;241m=\u001b[39m\u001b[38;5;124m\"\u001b[39m\u001b[38;5;124mstatsValue\u001b[39m\u001b[38;5;124m\"\u001b[39m, color\u001b[38;5;241m=\u001b[39m\u001b[38;5;124m\"\u001b[39m\u001b[38;5;124menfermedad\u001b[39m\u001b[38;5;124m\"\u001b[39m))\n\u001b[0;32m      5\u001b[0m           \u001b[38;5;241m+\u001b[39m theme_light()\n\u001b[0;32m      6\u001b[0m           \u001b[38;5;241m+\u001b[39m scale_y_log10()\n\u001b[0;32m      7\u001b[0m           \u001b[38;5;241m+\u001b[39m geom_smooth()\n\u001b[0;32m      8\u001b[0m           \u001b[38;5;241m+\u001b[39m facet_grid(\u001b[38;5;124m\"\u001b[39m\u001b[38;5;124mstatsName~.\u001b[39m\u001b[38;5;124m\"\u001b[39m, scales\u001b[38;5;241m=\u001b[39m\u001b[38;5;124m\"\u001b[39m\u001b[38;5;124mfree_y\u001b[39m\u001b[38;5;124m\"\u001b[39m))\n\u001b[0;32m     10\u001b[0m \u001b[38;5;28mprint\u001b[39m(facets)\n",
      "\u001b[1;31mModuleNotFoundError\u001b[0m: No module named 'plotnine'"
     ]
    }
   ],
   "source": [
    "#Ahora un gráfico que ha logaritmizado la cantidad total de contagios\n",
    "from plotnine import ggplot, aes, geom_smooth, facet_grid, scale_y_log10, theme_light\n",
    "\n",
    "facets = (ggplot(data=DF, mapping=aes(x=\"ano\", y=\"statsValue\", color=\"enfermedad\"))\n",
    "          + theme_light()\n",
    "          + scale_y_log10()\n",
    "          + geom_smooth()\n",
    "          + facet_grid(\"statsName~.\", scales=\"free_y\"))\n",
    "\n",
    "print(facets)"
   ]
  },
  {
   "cell_type": "markdown",
   "metadata": {
    "id": "fOvyQoilPM4j"
   },
   "source": [
    "Análisis\n",
    "Pregunta A: la edad media de contagios se mantiene en la edad adulta desde aproximadamente los 25 años hasta 35. Lo interesante resulta que el promedio de edad de casos alamar no grave han ido aumentando. La explicación más sugerente sería que los menores eran más veces diagnosticados con ese nivel de gravedad, pero que con el tiempo se ha ido acoplando a las tendencias de las dempas categorías.\n",
    "\n",
    "Pregunta B\n",
    "La cantidad de casos a incrementado enormemente. Lo que no corresponde con el incremento de los casos de gravedad que se han mantenido relativamente constante. Ello, posiblemente implica un mayor testeo de la enfermedad y un mejor control de esta misma. Sin embargo, todavía resulta importante considerar que el imcremento es sostenido y con ello, se entiende que la enfermedad sigue propagandose, las personas se contagian más, aunque no de modo más grave.\n"
   ]
  },
  {
   "cell_type": "markdown",
   "metadata": {
    "id": "Wr5M6W-eF3DU"
   },
   "source": [
    "## Parte 2: pregunta C"
   ]
  },
  {
   "cell_type": "markdown",
   "metadata": {
    "id": "mNhoc6c1KKlr"
   },
   "source": [
    "C.Responda: Cuales fueron las provincias mas afectadas con contagiados a lo largo de los años?\n",
    "\n"
   ]
  },
  {
   "cell_type": "code",
   "execution_count": 26,
   "metadata": {
    "id": "l9vBJ7mHQmDV"
   },
   "outputs": [
    {
     "data": {
      "text/html": [
       "<div>\n",
       "<style scoped>\n",
       "    .dataframe tbody tr th:only-of-type {\n",
       "        vertical-align: middle;\n",
       "    }\n",
       "\n",
       "    .dataframe tbody tr th {\n",
       "        vertical-align: top;\n",
       "    }\n",
       "\n",
       "    .dataframe thead th {\n",
       "        text-align: right;\n",
       "    }\n",
       "</style>\n",
       "<table border=\"1\" class=\"dataframe\">\n",
       "  <thead>\n",
       "    <tr style=\"text-align: right;\">\n",
       "      <th></th>\n",
       "      <th>departamento</th>\n",
       "      <th>provincia</th>\n",
       "      <th>distrito</th>\n",
       "      <th>ano</th>\n",
       "      <th>semana</th>\n",
       "      <th>sexo</th>\n",
       "      <th>edad</th>\n",
       "      <th>enfermedad</th>\n",
       "      <th>year</th>\n",
       "    </tr>\n",
       "  </thead>\n",
       "  <tbody>\n",
       "    <tr>\n",
       "      <th>0</th>\n",
       "      <td>HUANUCO</td>\n",
       "      <td>LEONCIO PRADO</td>\n",
       "      <td>LUYANDO</td>\n",
       "      <td>2000</td>\n",
       "      <td>47</td>\n",
       "      <td>M</td>\n",
       "      <td>9</td>\n",
       "      <td>SIN_SEÑALES</td>\n",
       "      <td>2000-01-01</td>\n",
       "    </tr>\n",
       "    <tr>\n",
       "      <th>1</th>\n",
       "      <td>HUANUCO</td>\n",
       "      <td>LEONCIO PRADO</td>\n",
       "      <td>LUYANDO</td>\n",
       "      <td>2000</td>\n",
       "      <td>40</td>\n",
       "      <td>F</td>\n",
       "      <td>18</td>\n",
       "      <td>SIN_SEÑALES</td>\n",
       "      <td>2000-01-01</td>\n",
       "    </tr>\n",
       "    <tr>\n",
       "      <th>2</th>\n",
       "      <td>HUANUCO</td>\n",
       "      <td>LEONCIO PRADO</td>\n",
       "      <td>JOSE CRESPO Y CASTILLO</td>\n",
       "      <td>2000</td>\n",
       "      <td>48</td>\n",
       "      <td>F</td>\n",
       "      <td>32</td>\n",
       "      <td>SIN_SEÑALES</td>\n",
       "      <td>2000-01-01</td>\n",
       "    </tr>\n",
       "    <tr>\n",
       "      <th>3</th>\n",
       "      <td>HUANUCO</td>\n",
       "      <td>LEONCIO PRADO</td>\n",
       "      <td>JOSE CRESPO Y CASTILLO</td>\n",
       "      <td>2000</td>\n",
       "      <td>37</td>\n",
       "      <td>F</td>\n",
       "      <td>40</td>\n",
       "      <td>SIN_SEÑALES</td>\n",
       "      <td>2000-01-01</td>\n",
       "    </tr>\n",
       "    <tr>\n",
       "      <th>4</th>\n",
       "      <td>HUANUCO</td>\n",
       "      <td>LEONCIO PRADO</td>\n",
       "      <td>MARIANO DAMASO BERAUN</td>\n",
       "      <td>2000</td>\n",
       "      <td>42</td>\n",
       "      <td>M</td>\n",
       "      <td>16</td>\n",
       "      <td>SIN_SEÑALES</td>\n",
       "      <td>2000-01-01</td>\n",
       "    </tr>\n",
       "    <tr>\n",
       "      <th>...</th>\n",
       "      <td>...</td>\n",
       "      <td>...</td>\n",
       "      <td>...</td>\n",
       "      <td>...</td>\n",
       "      <td>...</td>\n",
       "      <td>...</td>\n",
       "      <td>...</td>\n",
       "      <td>...</td>\n",
       "      <td>...</td>\n",
       "    </tr>\n",
       "    <tr>\n",
       "      <th>398938</th>\n",
       "      <td>SAN MARTIN</td>\n",
       "      <td>SAN MARTIN</td>\n",
       "      <td>TARAPOTO</td>\n",
       "      <td>2022</td>\n",
       "      <td>13</td>\n",
       "      <td>M</td>\n",
       "      <td>17</td>\n",
       "      <td>SIN_SEÑALES</td>\n",
       "      <td>2022-01-01</td>\n",
       "    </tr>\n",
       "    <tr>\n",
       "      <th>398939</th>\n",
       "      <td>PIURA</td>\n",
       "      <td>SECHURA</td>\n",
       "      <td>SECHURA</td>\n",
       "      <td>2022</td>\n",
       "      <td>13</td>\n",
       "      <td>F</td>\n",
       "      <td>48</td>\n",
       "      <td>SIN_SEÑALES</td>\n",
       "      <td>2022-01-01</td>\n",
       "    </tr>\n",
       "    <tr>\n",
       "      <th>398940</th>\n",
       "      <td>PIURA</td>\n",
       "      <td>PIURA</td>\n",
       "      <td>LA UNION</td>\n",
       "      <td>2022</td>\n",
       "      <td>52</td>\n",
       "      <td>M</td>\n",
       "      <td>24</td>\n",
       "      <td>SIN_SEÑALES</td>\n",
       "      <td>2022-01-01</td>\n",
       "    </tr>\n",
       "    <tr>\n",
       "      <th>398941</th>\n",
       "      <td>LORETO</td>\n",
       "      <td>MAYNAS</td>\n",
       "      <td>IQUITOS</td>\n",
       "      <td>2022</td>\n",
       "      <td>51</td>\n",
       "      <td>M</td>\n",
       "      <td>26</td>\n",
       "      <td>SIN_SEÑALES</td>\n",
       "      <td>2022-01-01</td>\n",
       "    </tr>\n",
       "    <tr>\n",
       "      <th>398942</th>\n",
       "      <td>SAN MARTIN</td>\n",
       "      <td>SAN MARTIN</td>\n",
       "      <td>LA BANDA DE SHILCAYO</td>\n",
       "      <td>2022</td>\n",
       "      <td>47</td>\n",
       "      <td>F</td>\n",
       "      <td>25</td>\n",
       "      <td>SIN_SEÑALES</td>\n",
       "      <td>2022-01-01</td>\n",
       "    </tr>\n",
       "  </tbody>\n",
       "</table>\n",
       "<p>398943 rows × 9 columns</p>\n",
       "</div>"
      ],
      "text/plain": [
       "       departamento      provincia                distrito   ano  semana sexo  \\\n",
       "0           HUANUCO  LEONCIO PRADO                 LUYANDO  2000      47    M   \n",
       "1           HUANUCO  LEONCIO PRADO                 LUYANDO  2000      40    F   \n",
       "2           HUANUCO  LEONCIO PRADO  JOSE CRESPO Y CASTILLO  2000      48    F   \n",
       "3           HUANUCO  LEONCIO PRADO  JOSE CRESPO Y CASTILLO  2000      37    F   \n",
       "4           HUANUCO  LEONCIO PRADO   MARIANO DAMASO BERAUN  2000      42    M   \n",
       "...             ...            ...                     ...   ...     ...  ...   \n",
       "398938   SAN MARTIN     SAN MARTIN                TARAPOTO  2022      13    M   \n",
       "398939        PIURA        SECHURA                 SECHURA  2022      13    F   \n",
       "398940        PIURA          PIURA                LA UNION  2022      52    M   \n",
       "398941       LORETO         MAYNAS                 IQUITOS  2022      51    M   \n",
       "398942   SAN MARTIN     SAN MARTIN    LA BANDA DE SHILCAYO  2022      47    F   \n",
       "\n",
       "        edad   enfermedad       year  \n",
       "0          9  SIN_SEÑALES 2000-01-01  \n",
       "1         18  SIN_SEÑALES 2000-01-01  \n",
       "2         32  SIN_SEÑALES 2000-01-01  \n",
       "3         40  SIN_SEÑALES 2000-01-01  \n",
       "4         16  SIN_SEÑALES 2000-01-01  \n",
       "...      ...          ...        ...  \n",
       "398938    17  SIN_SEÑALES 2022-01-01  \n",
       "398939    48  SIN_SEÑALES 2022-01-01  \n",
       "398940    24  SIN_SEÑALES 2022-01-01  \n",
       "398941    26  SIN_SEÑALES 2022-01-01  \n",
       "398942    25  SIN_SEÑALES 2022-01-01  \n",
       "\n",
       "[398943 rows x 9 columns]"
      ]
     },
     "execution_count": 26,
     "metadata": {},
     "output_type": "execute_result"
    }
   ],
   "source": [
    "DFII"
   ]
  },
  {
   "cell_type": "code",
   "execution_count": 27,
   "metadata": {
    "id": "6L-0-UX4dxdL"
   },
   "outputs": [],
   "source": [
    "DFII = DFII.assign(case=1)"
   ]
  },
  {
   "cell_type": "code",
   "execution_count": 28,
   "metadata": {
    "id": "fT9lROowZ1WP"
   },
   "outputs": [
    {
     "name": "stdout",
     "output_type": "stream",
     "text": [
      "<class 'pandas.core.frame.DataFrame'>\n",
      "RangeIndex: 398943 entries, 0 to 398942\n",
      "Data columns (total 10 columns):\n",
      " #   Column        Non-Null Count   Dtype         \n",
      "---  ------        --------------   -----         \n",
      " 0   departamento  398943 non-null  object        \n",
      " 1   provincia     398943 non-null  object        \n",
      " 2   distrito      398943 non-null  object        \n",
      " 3   ano           398943 non-null  int64         \n",
      " 4   semana        398943 non-null  int64         \n",
      " 5   sexo          398943 non-null  object        \n",
      " 6   edad          398943 non-null  int64         \n",
      " 7   enfermedad    398943 non-null  category      \n",
      " 8   year          398931 non-null  datetime64[ns]\n",
      " 9   case          398943 non-null  int64         \n",
      "dtypes: category(1), datetime64[ns](1), int64(4), object(4)\n",
      "memory usage: 27.8+ MB\n"
     ]
    }
   ],
   "source": [
    "DFII.info()"
   ]
  },
  {
   "cell_type": "code",
   "execution_count": null,
   "metadata": {
    "id": "jyQ9T40RaVzf"
   },
   "outputs": [],
   "source": []
  },
  {
   "cell_type": "code",
   "execution_count": 29,
   "metadata": {
    "id": "kbtXymA6KLGV"
   },
   "outputs": [
    {
     "data": {
      "text/plain": [
       "count     398943\n",
       "unique       110\n",
       "top       MAYNAS\n",
       "freq       49073\n",
       "Name: provincia, dtype: object"
      ]
     },
     "execution_count": 29,
     "metadata": {},
     "output_type": "execute_result"
    }
   ],
   "source": [
    "DFII[\"provincia\"].describe() #statsValue=edad promedio\n"
   ]
  },
  {
   "cell_type": "code",
   "execution_count": 30,
   "metadata": {
    "id": "SN8YhwGrcxAC"
   },
   "outputs": [
    {
     "name": "stdout",
     "output_type": "stream",
     "text": [
      "       ano departamento      distrito  total\n",
      "0     2000     AMAZONAS         BAGUA    215\n",
      "1     2000     AMAZONAS  BAGUA GRANDE     38\n",
      "2     2000     AMAZONAS      CAJARURO      5\n",
      "3     2000     AMAZONAS         CUMBA     14\n",
      "4     2000     AMAZONAS         YAMON      1\n",
      "...    ...          ...           ...    ...\n",
      "4884  2022      UCAYALI      RAIMONDI    531\n",
      "4885  2022      UCAYALI       SEPAHUA     32\n",
      "4886  2022      UCAYALI      TAHUANIA     71\n",
      "4887  2022      UCAYALI   YARINACOCHA    875\n",
      "4888  2022      UCAYALI         YURUA      2\n",
      "\n",
      "[4889 rows x 4 columns]\n"
     ]
    }
   ],
   "source": [
    "# Agrupar por año y distrito y sumar las personas testeadas en cada grupo\n",
    "DFIIX =DFII.groupby([\"ano\", \"departamento\", \"distrito\"]).agg({\"case\": \"sum\"}).reset_index()\n",
    "\n",
    "# Renombrar la columna para que sea más clara\n",
    "DFIIX.rename(columns={'case': 'total'}, inplace=True)\n",
    "\n",
    "# Mostrar el nuevo DataFrame\n",
    "print(DFIIX)"
   ]
  },
  {
   "cell_type": "code",
   "execution_count": 31,
   "metadata": {
    "id": "2qzh5gm0hjmt"
   },
   "outputs": [
    {
     "data": {
      "text/html": [
       "<div>\n",
       "<style scoped>\n",
       "    .dataframe tbody tr th:only-of-type {\n",
       "        vertical-align: middle;\n",
       "    }\n",
       "\n",
       "    .dataframe tbody tr th {\n",
       "        vertical-align: top;\n",
       "    }\n",
       "\n",
       "    .dataframe thead th {\n",
       "        text-align: right;\n",
       "    }\n",
       "</style>\n",
       "<table border=\"1\" class=\"dataframe\">\n",
       "  <thead>\n",
       "    <tr style=\"text-align: right;\">\n",
       "      <th></th>\n",
       "      <th>ano</th>\n",
       "      <th>departamento</th>\n",
       "      <th>distrito</th>\n",
       "      <th>total</th>\n",
       "    </tr>\n",
       "  </thead>\n",
       "  <tbody>\n",
       "    <tr>\n",
       "      <th>0</th>\n",
       "      <td>2000</td>\n",
       "      <td>AMAZONAS</td>\n",
       "      <td>BAGUA</td>\n",
       "      <td>215</td>\n",
       "    </tr>\n",
       "    <tr>\n",
       "      <th>1</th>\n",
       "      <td>2000</td>\n",
       "      <td>AMAZONAS</td>\n",
       "      <td>BAGUA GRANDE</td>\n",
       "      <td>38</td>\n",
       "    </tr>\n",
       "    <tr>\n",
       "      <th>2</th>\n",
       "      <td>2000</td>\n",
       "      <td>AMAZONAS</td>\n",
       "      <td>CAJARURO</td>\n",
       "      <td>5</td>\n",
       "    </tr>\n",
       "    <tr>\n",
       "      <th>3</th>\n",
       "      <td>2000</td>\n",
       "      <td>AMAZONAS</td>\n",
       "      <td>CUMBA</td>\n",
       "      <td>14</td>\n",
       "    </tr>\n",
       "    <tr>\n",
       "      <th>4</th>\n",
       "      <td>2000</td>\n",
       "      <td>AMAZONAS</td>\n",
       "      <td>YAMON</td>\n",
       "      <td>1</td>\n",
       "    </tr>\n",
       "    <tr>\n",
       "      <th>...</th>\n",
       "      <td>...</td>\n",
       "      <td>...</td>\n",
       "      <td>...</td>\n",
       "      <td>...</td>\n",
       "    </tr>\n",
       "    <tr>\n",
       "      <th>4884</th>\n",
       "      <td>2022</td>\n",
       "      <td>UCAYALI</td>\n",
       "      <td>RAIMONDI</td>\n",
       "      <td>531</td>\n",
       "    </tr>\n",
       "    <tr>\n",
       "      <th>4885</th>\n",
       "      <td>2022</td>\n",
       "      <td>UCAYALI</td>\n",
       "      <td>SEPAHUA</td>\n",
       "      <td>32</td>\n",
       "    </tr>\n",
       "    <tr>\n",
       "      <th>4886</th>\n",
       "      <td>2022</td>\n",
       "      <td>UCAYALI</td>\n",
       "      <td>TAHUANIA</td>\n",
       "      <td>71</td>\n",
       "    </tr>\n",
       "    <tr>\n",
       "      <th>4887</th>\n",
       "      <td>2022</td>\n",
       "      <td>UCAYALI</td>\n",
       "      <td>YARINACOCHA</td>\n",
       "      <td>875</td>\n",
       "    </tr>\n",
       "    <tr>\n",
       "      <th>4888</th>\n",
       "      <td>2022</td>\n",
       "      <td>UCAYALI</td>\n",
       "      <td>YURUA</td>\n",
       "      <td>2</td>\n",
       "    </tr>\n",
       "  </tbody>\n",
       "</table>\n",
       "<p>4889 rows × 4 columns</p>\n",
       "</div>"
      ],
      "text/plain": [
       "       ano departamento      distrito  total\n",
       "0     2000     AMAZONAS         BAGUA    215\n",
       "1     2000     AMAZONAS  BAGUA GRANDE     38\n",
       "2     2000     AMAZONAS      CAJARURO      5\n",
       "3     2000     AMAZONAS         CUMBA     14\n",
       "4     2000     AMAZONAS         YAMON      1\n",
       "...    ...          ...           ...    ...\n",
       "4884  2022      UCAYALI      RAIMONDI    531\n",
       "4885  2022      UCAYALI       SEPAHUA     32\n",
       "4886  2022      UCAYALI      TAHUANIA     71\n",
       "4887  2022      UCAYALI   YARINACOCHA    875\n",
       "4888  2022      UCAYALI         YURUA      2\n",
       "\n",
       "[4889 rows x 4 columns]"
      ]
     },
     "execution_count": 31,
     "metadata": {},
     "output_type": "execute_result"
    }
   ],
   "source": [
    "DFIIX"
   ]
  },
  {
   "cell_type": "code",
   "execution_count": 32,
   "metadata": {
    "id": "mcRwDsdziWCx"
   },
   "outputs": [
    {
     "name": "stdout",
     "output_type": "stream",
     "text": [
      "       ano   departamento     distrito  total\n",
      "49    2000          PIURA      SULLANA   1301\n",
      "222   2001          PIURA      SULLANA   2042\n",
      "402   2002        UCAYALI     CALLERIA   1150\n",
      "486   2003          PIURA      SULLANA    757\n",
      "588   2004         LORETO      IQUITOS    931\n",
      "701   2005      CAJAMARCA         JAEN    733\n",
      "908   2006         LORETO      IQUITOS    570\n",
      "1025  2007    LA LIBERTAD  EL PORVENIR    659\n",
      "1200  2008         LORETO      IQUITOS   1932\n",
      "1364  2009         LORETO      IQUITOS   1244\n",
      "1595  2010          PIURA        PIURA   1602\n",
      "1710  2011         LORETO      IQUITOS   2743\n",
      "2047  2012        UCAYALI     CALLERIA   2595\n",
      "2115  2013         LORETO      IQUITOS   1422\n",
      "2320  2014         LORETO      IQUITOS   1908\n",
      "2677  2015         TUMBES       TUMBES   2451\n",
      "2846  2016          PIURA     CASTILLA   1064\n",
      "3177  2017          PIURA        PIURA   3558\n",
      "3369  2018  MADRE DE DIOS    TAMBOPATA    811\n",
      "3603  2019  MADRE DE DIOS    TAMBOPATA   2495\n",
      "4009  2020        UCAYALI     CALLERIA   2660\n",
      "4072  2021      CAJAMARCA         JAEN   2482\n",
      "4729  2022  MADRE DE DIOS    TAMBOPATA   2046\n"
     ]
    }
   ],
   "source": [
    "max_contagios_por_año = DFIIX.loc[DFIIX.groupby(\"ano\")['total'].idxmax()]\n",
    "\n",
    "# Mostrar los resultados\n",
    "print(max_contagios_por_año)"
   ]
  },
  {
   "cell_type": "code",
   "execution_count": 33,
   "metadata": {
    "id": "nveq3deXkHu1"
   },
   "outputs": [
    {
     "name": "stdout",
     "output_type": "stream",
     "text": [
      "      ano   departamento      distrito  total\n",
      "0    2000          PIURA       SULLANA   1301\n",
      "1    2000    LA LIBERTAD   EL PORVENIR    677\n",
      "2    2000          PIURA  QUERECOTILLO    306\n",
      "3    2000          PIURA    BELLAVISTA    256\n",
      "4    2000         LORETO       IQUITOS    241\n",
      "..    ...            ...           ...    ...\n",
      "110  2022  MADRE DE DIOS     TAMBOPATA   2046\n",
      "111  2022         LORETO    YURIMAGUAS   1938\n",
      "112  2022      CAJAMARCA          JAEN   1898\n",
      "113  2022        UCAYALI      CALLERIA   1578\n",
      "114  2022          CUSCO     SANTA ANA   1402\n",
      "\n",
      "[115 rows x 4 columns]\n"
     ]
    }
   ],
   "source": [
    "#ahora para ver no solo el distrito con más contagios, sino los 5 primeros por año\n",
    "top5_distr_mas_contagios = DFIIX.groupby(\"ano\").apply(lambda x: x.nlargest(5, \"total\")).reset_index(drop=True)\n",
    "\n",
    "# Mostramos los resultados\n",
    "print(top5_distr_mas_contagios)"
   ]
  },
  {
   "cell_type": "code",
   "execution_count": 34,
   "metadata": {
    "id": "mIY2jM2qA6VT"
   },
   "outputs": [],
   "source": [
    "#una estrategia util para contabilizar cuantas vaces se repite es añadirle una columna con 1s\n",
    "top5_distr_mas_contagios = top5_distr_mas_contagios.assign(case=1)"
   ]
  },
  {
   "cell_type": "code",
   "execution_count": 35,
   "metadata": {
    "id": "BTaY1jQZBHFb"
   },
   "outputs": [
    {
     "name": "stdout",
     "output_type": "stream",
     "text": [
      "      ano   departamento      distrito  total  case\n",
      "0    2000          PIURA       SULLANA   1301     1\n",
      "1    2000    LA LIBERTAD   EL PORVENIR    677     1\n",
      "2    2000          PIURA  QUERECOTILLO    306     1\n",
      "3    2000          PIURA    BELLAVISTA    256     1\n",
      "4    2000         LORETO       IQUITOS    241     1\n",
      "..    ...            ...           ...    ...   ...\n",
      "110  2022  MADRE DE DIOS     TAMBOPATA   2046     1\n",
      "111  2022         LORETO    YURIMAGUAS   1938     1\n",
      "112  2022      CAJAMARCA          JAEN   1898     1\n",
      "113  2022        UCAYALI      CALLERIA   1578     1\n",
      "114  2022          CUSCO     SANTA ANA   1402     1\n",
      "\n",
      "[115 rows x 5 columns]\n"
     ]
    }
   ],
   "source": [
    "print(top5_distr_mas_contagios)"
   ]
  },
  {
   "cell_type": "code",
   "execution_count": 36,
   "metadata": {
    "id": "iN10XTMn9aMi"
   },
   "outputs": [
    {
     "name": "stdout",
     "output_type": "stream",
     "text": [
      "     departamento               distrito  veces_en_el_top\n",
      "0          ANCASH                  CASMA                1\n",
      "1        AYACUCHO              LLOCHEGUA                1\n",
      "2       CAJAMARCA                   JAEN                6\n",
      "3           CUSCO                PICHARI                1\n",
      "4           CUSCO              SANTA ANA                1\n",
      "5         HUANUCO              RUPA-RUPA                1\n",
      "6             ICA                    ICA                1\n",
      "7           JUNIN                 PERENE                1\n",
      "8     LA LIBERTAD            CASA GRANDE                1\n",
      "9     LA LIBERTAD                 CHEPEN                1\n",
      "10    LA LIBERTAD            EL PORVENIR                3\n",
      "11    LA LIBERTAD                 PAIJAN                1\n",
      "12    LA LIBERTAD               TRUJILLO                1\n",
      "13     LAMBAYEQUE                CAYALTI                1\n",
      "14     LAMBAYEQUE              FERRE�AFE                1\n",
      "15     LAMBAYEQUE                 MOTUPE                1\n",
      "16     LAMBAYEQUE                 PATAPO                1\n",
      "17     LAMBAYEQUE                POMALCA                1\n",
      "18         LORETO                  BELEN                3\n",
      "19         LORETO                IQUITOS               14\n",
      "20         LORETO               PUNCHANA                7\n",
      "21         LORETO      SAN JUAN BAUTISTA                8\n",
      "22         LORETO             YURIMAGUAS                7\n",
      "23  MADRE DE DIOS               INAMBARI                1\n",
      "24  MADRE DE DIOS            LAS PIEDRAS                1\n",
      "25  MADRE DE DIOS              TAMBOPATA                8\n",
      "26          PIURA             BELLAVISTA                3\n",
      "27          PIURA               CASTILLA                4\n",
      "28          PIURA             CHULUCANAS                2\n",
      "29          PIURA                PARIѐAS                3\n",
      "30          PIURA                  PIURA                4\n",
      "31          PIURA           QUERECOTILLO                1\n",
      "32          PIURA                SULLANA                7\n",
      "33          PIURA           TAMBO GRANDE                3\n",
      "34          PIURA  VEINTISEIS DE OCTUBRE                1\n",
      "35     SAN MARTIN               TARAPOTO                1\n",
      "36         TUMBES                 TUMBES                3\n",
      "37        UCAYALI               CALLERIA                5\n",
      "38        UCAYALI               MANANTAY                1\n",
      "39        UCAYALI            YARINACOCHA                3\n"
     ]
    }
   ],
   "source": [
    "#contabilizamos cuantas veces se repiten los distritos en el top 5 de contagiados por cada año\n",
    "#mas_veces_en_top_5=top5_distr_mas_contagios.groupby([\"ano\", \"departamento\", \"distrito\"]).agg({\"case\": \"sum\"}).reset_index()\n",
    "# Renombrar la columna para que sea más clara\n",
    "#mas_veces_en_top_5.rename(columns={'case': 'tot'}, inplace=True)\n",
    "\n",
    "\n",
    "# Agrupar por departamento y distrito y contar el número de filas en cada grupo\n",
    "mas_veces_en_top_5 = top5_distr_mas_contagios.groupby(['departamento', 'distrito']).size().reset_index(name='veces_en_el_top')\n",
    "\n",
    "# Mostrar el nuevo DataFrame\n",
    "print(mas_veces_en_top_5)"
   ]
  },
  {
   "cell_type": "code",
   "execution_count": 37,
   "metadata": {
    "id": "RerBn0s0Ba94"
   },
   "outputs": [
    {
     "data": {
      "text/html": [
       "<div>\n",
       "<style scoped>\n",
       "    .dataframe tbody tr th:only-of-type {\n",
       "        vertical-align: middle;\n",
       "    }\n",
       "\n",
       "    .dataframe tbody tr th {\n",
       "        vertical-align: top;\n",
       "    }\n",
       "\n",
       "    .dataframe thead th {\n",
       "        text-align: right;\n",
       "    }\n",
       "</style>\n",
       "<table border=\"1\" class=\"dataframe\">\n",
       "  <thead>\n",
       "    <tr style=\"text-align: right;\">\n",
       "      <th></th>\n",
       "      <th>departamento</th>\n",
       "      <th>distrito</th>\n",
       "      <th>veces_en_el_top</th>\n",
       "    </tr>\n",
       "  </thead>\n",
       "  <tbody>\n",
       "    <tr>\n",
       "      <th>0</th>\n",
       "      <td>ANCASH</td>\n",
       "      <td>CASMA</td>\n",
       "      <td>1</td>\n",
       "    </tr>\n",
       "    <tr>\n",
       "      <th>1</th>\n",
       "      <td>AYACUCHO</td>\n",
       "      <td>LLOCHEGUA</td>\n",
       "      <td>1</td>\n",
       "    </tr>\n",
       "    <tr>\n",
       "      <th>2</th>\n",
       "      <td>CAJAMARCA</td>\n",
       "      <td>JAEN</td>\n",
       "      <td>6</td>\n",
       "    </tr>\n",
       "    <tr>\n",
       "      <th>3</th>\n",
       "      <td>CUSCO</td>\n",
       "      <td>PICHARI</td>\n",
       "      <td>1</td>\n",
       "    </tr>\n",
       "    <tr>\n",
       "      <th>4</th>\n",
       "      <td>CUSCO</td>\n",
       "      <td>SANTA ANA</td>\n",
       "      <td>1</td>\n",
       "    </tr>\n",
       "    <tr>\n",
       "      <th>5</th>\n",
       "      <td>HUANUCO</td>\n",
       "      <td>RUPA-RUPA</td>\n",
       "      <td>1</td>\n",
       "    </tr>\n",
       "    <tr>\n",
       "      <th>6</th>\n",
       "      <td>ICA</td>\n",
       "      <td>ICA</td>\n",
       "      <td>1</td>\n",
       "    </tr>\n",
       "    <tr>\n",
       "      <th>7</th>\n",
       "      <td>JUNIN</td>\n",
       "      <td>PERENE</td>\n",
       "      <td>1</td>\n",
       "    </tr>\n",
       "    <tr>\n",
       "      <th>8</th>\n",
       "      <td>LA LIBERTAD</td>\n",
       "      <td>CASA GRANDE</td>\n",
       "      <td>1</td>\n",
       "    </tr>\n",
       "    <tr>\n",
       "      <th>9</th>\n",
       "      <td>LA LIBERTAD</td>\n",
       "      <td>CHEPEN</td>\n",
       "      <td>1</td>\n",
       "    </tr>\n",
       "    <tr>\n",
       "      <th>10</th>\n",
       "      <td>LA LIBERTAD</td>\n",
       "      <td>EL PORVENIR</td>\n",
       "      <td>3</td>\n",
       "    </tr>\n",
       "    <tr>\n",
       "      <th>11</th>\n",
       "      <td>LA LIBERTAD</td>\n",
       "      <td>PAIJAN</td>\n",
       "      <td>1</td>\n",
       "    </tr>\n",
       "    <tr>\n",
       "      <th>12</th>\n",
       "      <td>LA LIBERTAD</td>\n",
       "      <td>TRUJILLO</td>\n",
       "      <td>1</td>\n",
       "    </tr>\n",
       "    <tr>\n",
       "      <th>13</th>\n",
       "      <td>LAMBAYEQUE</td>\n",
       "      <td>CAYALTI</td>\n",
       "      <td>1</td>\n",
       "    </tr>\n",
       "    <tr>\n",
       "      <th>14</th>\n",
       "      <td>LAMBAYEQUE</td>\n",
       "      <td>FERRE�AFE</td>\n",
       "      <td>1</td>\n",
       "    </tr>\n",
       "    <tr>\n",
       "      <th>15</th>\n",
       "      <td>LAMBAYEQUE</td>\n",
       "      <td>MOTUPE</td>\n",
       "      <td>1</td>\n",
       "    </tr>\n",
       "    <tr>\n",
       "      <th>16</th>\n",
       "      <td>LAMBAYEQUE</td>\n",
       "      <td>PATAPO</td>\n",
       "      <td>1</td>\n",
       "    </tr>\n",
       "    <tr>\n",
       "      <th>17</th>\n",
       "      <td>LAMBAYEQUE</td>\n",
       "      <td>POMALCA</td>\n",
       "      <td>1</td>\n",
       "    </tr>\n",
       "    <tr>\n",
       "      <th>18</th>\n",
       "      <td>LORETO</td>\n",
       "      <td>BELEN</td>\n",
       "      <td>3</td>\n",
       "    </tr>\n",
       "    <tr>\n",
       "      <th>19</th>\n",
       "      <td>LORETO</td>\n",
       "      <td>IQUITOS</td>\n",
       "      <td>14</td>\n",
       "    </tr>\n",
       "    <tr>\n",
       "      <th>20</th>\n",
       "      <td>LORETO</td>\n",
       "      <td>PUNCHANA</td>\n",
       "      <td>7</td>\n",
       "    </tr>\n",
       "    <tr>\n",
       "      <th>21</th>\n",
       "      <td>LORETO</td>\n",
       "      <td>SAN JUAN BAUTISTA</td>\n",
       "      <td>8</td>\n",
       "    </tr>\n",
       "    <tr>\n",
       "      <th>22</th>\n",
       "      <td>LORETO</td>\n",
       "      <td>YURIMAGUAS</td>\n",
       "      <td>7</td>\n",
       "    </tr>\n",
       "    <tr>\n",
       "      <th>23</th>\n",
       "      <td>MADRE DE DIOS</td>\n",
       "      <td>INAMBARI</td>\n",
       "      <td>1</td>\n",
       "    </tr>\n",
       "    <tr>\n",
       "      <th>24</th>\n",
       "      <td>MADRE DE DIOS</td>\n",
       "      <td>LAS PIEDRAS</td>\n",
       "      <td>1</td>\n",
       "    </tr>\n",
       "    <tr>\n",
       "      <th>25</th>\n",
       "      <td>MADRE DE DIOS</td>\n",
       "      <td>TAMBOPATA</td>\n",
       "      <td>8</td>\n",
       "    </tr>\n",
       "    <tr>\n",
       "      <th>26</th>\n",
       "      <td>PIURA</td>\n",
       "      <td>BELLAVISTA</td>\n",
       "      <td>3</td>\n",
       "    </tr>\n",
       "    <tr>\n",
       "      <th>27</th>\n",
       "      <td>PIURA</td>\n",
       "      <td>CASTILLA</td>\n",
       "      <td>4</td>\n",
       "    </tr>\n",
       "    <tr>\n",
       "      <th>28</th>\n",
       "      <td>PIURA</td>\n",
       "      <td>CHULUCANAS</td>\n",
       "      <td>2</td>\n",
       "    </tr>\n",
       "    <tr>\n",
       "      <th>29</th>\n",
       "      <td>PIURA</td>\n",
       "      <td>PARIѐAS</td>\n",
       "      <td>3</td>\n",
       "    </tr>\n",
       "    <tr>\n",
       "      <th>30</th>\n",
       "      <td>PIURA</td>\n",
       "      <td>PIURA</td>\n",
       "      <td>4</td>\n",
       "    </tr>\n",
       "    <tr>\n",
       "      <th>31</th>\n",
       "      <td>PIURA</td>\n",
       "      <td>QUERECOTILLO</td>\n",
       "      <td>1</td>\n",
       "    </tr>\n",
       "    <tr>\n",
       "      <th>32</th>\n",
       "      <td>PIURA</td>\n",
       "      <td>SULLANA</td>\n",
       "      <td>7</td>\n",
       "    </tr>\n",
       "    <tr>\n",
       "      <th>33</th>\n",
       "      <td>PIURA</td>\n",
       "      <td>TAMBO GRANDE</td>\n",
       "      <td>3</td>\n",
       "    </tr>\n",
       "    <tr>\n",
       "      <th>34</th>\n",
       "      <td>PIURA</td>\n",
       "      <td>VEINTISEIS DE OCTUBRE</td>\n",
       "      <td>1</td>\n",
       "    </tr>\n",
       "    <tr>\n",
       "      <th>35</th>\n",
       "      <td>SAN MARTIN</td>\n",
       "      <td>TARAPOTO</td>\n",
       "      <td>1</td>\n",
       "    </tr>\n",
       "    <tr>\n",
       "      <th>36</th>\n",
       "      <td>TUMBES</td>\n",
       "      <td>TUMBES</td>\n",
       "      <td>3</td>\n",
       "    </tr>\n",
       "    <tr>\n",
       "      <th>37</th>\n",
       "      <td>UCAYALI</td>\n",
       "      <td>CALLERIA</td>\n",
       "      <td>5</td>\n",
       "    </tr>\n",
       "    <tr>\n",
       "      <th>38</th>\n",
       "      <td>UCAYALI</td>\n",
       "      <td>MANANTAY</td>\n",
       "      <td>1</td>\n",
       "    </tr>\n",
       "    <tr>\n",
       "      <th>39</th>\n",
       "      <td>UCAYALI</td>\n",
       "      <td>YARINACOCHA</td>\n",
       "      <td>3</td>\n",
       "    </tr>\n",
       "  </tbody>\n",
       "</table>\n",
       "</div>"
      ],
      "text/plain": [
       "     departamento               distrito  veces_en_el_top\n",
       "0          ANCASH                  CASMA                1\n",
       "1        AYACUCHO              LLOCHEGUA                1\n",
       "2       CAJAMARCA                   JAEN                6\n",
       "3           CUSCO                PICHARI                1\n",
       "4           CUSCO              SANTA ANA                1\n",
       "5         HUANUCO              RUPA-RUPA                1\n",
       "6             ICA                    ICA                1\n",
       "7           JUNIN                 PERENE                1\n",
       "8     LA LIBERTAD            CASA GRANDE                1\n",
       "9     LA LIBERTAD                 CHEPEN                1\n",
       "10    LA LIBERTAD            EL PORVENIR                3\n",
       "11    LA LIBERTAD                 PAIJAN                1\n",
       "12    LA LIBERTAD               TRUJILLO                1\n",
       "13     LAMBAYEQUE                CAYALTI                1\n",
       "14     LAMBAYEQUE              FERRE�AFE                1\n",
       "15     LAMBAYEQUE                 MOTUPE                1\n",
       "16     LAMBAYEQUE                 PATAPO                1\n",
       "17     LAMBAYEQUE                POMALCA                1\n",
       "18         LORETO                  BELEN                3\n",
       "19         LORETO                IQUITOS               14\n",
       "20         LORETO               PUNCHANA                7\n",
       "21         LORETO      SAN JUAN BAUTISTA                8\n",
       "22         LORETO             YURIMAGUAS                7\n",
       "23  MADRE DE DIOS               INAMBARI                1\n",
       "24  MADRE DE DIOS            LAS PIEDRAS                1\n",
       "25  MADRE DE DIOS              TAMBOPATA                8\n",
       "26          PIURA             BELLAVISTA                3\n",
       "27          PIURA               CASTILLA                4\n",
       "28          PIURA             CHULUCANAS                2\n",
       "29          PIURA                PARIѐAS                3\n",
       "30          PIURA                  PIURA                4\n",
       "31          PIURA           QUERECOTILLO                1\n",
       "32          PIURA                SULLANA                7\n",
       "33          PIURA           TAMBO GRANDE                3\n",
       "34          PIURA  VEINTISEIS DE OCTUBRE                1\n",
       "35     SAN MARTIN               TARAPOTO                1\n",
       "36         TUMBES                 TUMBES                3\n",
       "37        UCAYALI               CALLERIA                5\n",
       "38        UCAYALI               MANANTAY                1\n",
       "39        UCAYALI            YARINACOCHA                3"
      ]
     },
     "execution_count": 37,
     "metadata": {},
     "output_type": "execute_result"
    }
   ],
   "source": [
    "mas_veces_en_top_5"
   ]
  },
  {
   "cell_type": "code",
   "execution_count": 38,
   "metadata": {
    "id": "cj2RBjSQFc_o"
   },
   "outputs": [
    {
     "data": {
      "image/png": "[encoded data removed]",
      "text/plain": [
       "<Figure size 1200x1400 with 2 Axes>"
      ]
     },
     "metadata": {},
     "output_type": "display_data"
    }
   ],
   "source": [
    "import seaborn as sns\n",
    "import pandas as pd\n",
    "\n",
    "# Suponiendo que tienes tu DataFrame llamado df con las columnas departamento, distrito y veces_en_el_top\n",
    "\n",
    "# Crea un pivot table para convertir tus datos en un formato adecuado para el mapa de calor\n",
    "pivot_df = mas_veces_en_top_5.pivot_table(index='distrito', columns='departamento', values='veces_en_el_top', aggfunc='sum')\n",
    "\n",
    "# Crea el mapa de calor\n",
    "plt.figure(figsize=(12, 14))\n",
    "sns.heatmap(pivot_df, cmap='Blues', annot=True, fmt='g')\n",
    "plt.title('Veces en el top por distrito y departamento')\n",
    "plt.xlabel('Departamento')\n",
    "plt.ylabel('Distrito')\n",
    "plt.show()"
   ]
  },
  {
   "cell_type": "markdown",
   "metadata": {
    "id": "UVjpuC-9Nv9v"
   },
   "source": [
    "Análisis: el gráfico demuestra que en los 23 años de recolección de datos, muchos distritos han estado recurrentemente en el top 5 de lugares con más incidencia de la enfermedad. Ello puede estandarizarse tambien, si se proporciona la cantidad de enfermos con la población total. De todos modos, el mapa de calor resulta interesante ya que demuestra una sostenida afectación de distritos a través de tiempo. Lo que resulta alarmante, pues implica la constante vulnerabilidad de sus ciudadanos cada año por el dengue y también implicaría la falta de un plan de solución a largo plazo o de contingencia en tales distritos. Por ejemplo, el departamento de Loreto tiene los distritos que más veces aparecieron como Iquitos, Yurimaguas o Santa Ana.\n"
   ]
  },
  {
   "cell_type": "markdown",
   "metadata": {
    "id": "JEYF2JH4GySS"
   },
   "source": [
    "## Parte 3: pregunta D\n",
    "\n",
    "D. Responda: Qué relación habia entre los casos alarmantes no graves y los asintomaticos segun departamento a lo largo de los años?\n"
   ]
  },
  {
   "cell_type": "code",
   "execution_count": 39,
   "metadata": {
    "id": "PABShGWMGyBC"
   },
   "outputs": [
    {
     "data": {
      "text/html": [
       "<div>\n",
       "<style scoped>\n",
       "    .dataframe tbody tr th:only-of-type {\n",
       "        vertical-align: middle;\n",
       "    }\n",
       "\n",
       "    .dataframe tbody tr th {\n",
       "        vertical-align: top;\n",
       "    }\n",
       "\n",
       "    .dataframe thead th {\n",
       "        text-align: right;\n",
       "    }\n",
       "</style>\n",
       "<table border=\"1\" class=\"dataframe\">\n",
       "  <thead>\n",
       "    <tr style=\"text-align: right;\">\n",
       "      <th></th>\n",
       "      <th>ano</th>\n",
       "      <th>departamento</th>\n",
       "      <th>rateAlarma</th>\n",
       "      <th>rateAlarma.cut</th>\n",
       "    </tr>\n",
       "  </thead>\n",
       "  <tbody>\n",
       "    <tr>\n",
       "      <th>0</th>\n",
       "      <td>2012</td>\n",
       "      <td>AMAZONAS</td>\n",
       "      <td>0.126273</td>\n",
       "      <td>10-25%</td>\n",
       "    </tr>\n",
       "    <tr>\n",
       "      <th>1</th>\n",
       "      <td>2012</td>\n",
       "      <td>ANCASH</td>\n",
       "      <td>0.021111</td>\n",
       "      <td>less10%</td>\n",
       "    </tr>\n",
       "    <tr>\n",
       "      <th>2</th>\n",
       "      <td>2012</td>\n",
       "      <td>CAJAMARCA</td>\n",
       "      <td>0.177215</td>\n",
       "      <td>10-25%</td>\n",
       "    </tr>\n",
       "    <tr>\n",
       "      <th>3</th>\n",
       "      <td>2012</td>\n",
       "      <td>HUANUCO</td>\n",
       "      <td>0.309237</td>\n",
       "      <td>25-50</td>\n",
       "    </tr>\n",
       "    <tr>\n",
       "      <th>4</th>\n",
       "      <td>2012</td>\n",
       "      <td>JUNIN</td>\n",
       "      <td>0.061286</td>\n",
       "      <td>less10%</td>\n",
       "    </tr>\n",
       "    <tr>\n",
       "      <th>...</th>\n",
       "      <td>...</td>\n",
       "      <td>...</td>\n",
       "      <td>...</td>\n",
       "      <td>...</td>\n",
       "    </tr>\n",
       "    <tr>\n",
       "      <th>198</th>\n",
       "      <td>2022</td>\n",
       "      <td>PIURA</td>\n",
       "      <td>0.146407</td>\n",
       "      <td>10-25%</td>\n",
       "    </tr>\n",
       "    <tr>\n",
       "      <th>199</th>\n",
       "      <td>2022</td>\n",
       "      <td>PUNO</td>\n",
       "      <td>0.000000</td>\n",
       "      <td>less10%</td>\n",
       "    </tr>\n",
       "    <tr>\n",
       "      <th>200</th>\n",
       "      <td>2022</td>\n",
       "      <td>SAN MARTIN</td>\n",
       "      <td>0.280892</td>\n",
       "      <td>25-50</td>\n",
       "    </tr>\n",
       "    <tr>\n",
       "      <th>201</th>\n",
       "      <td>2022</td>\n",
       "      <td>TUMBES</td>\n",
       "      <td>0.054878</td>\n",
       "      <td>less10%</td>\n",
       "    </tr>\n",
       "    <tr>\n",
       "      <th>202</th>\n",
       "      <td>2022</td>\n",
       "      <td>UCAYALI</td>\n",
       "      <td>0.186795</td>\n",
       "      <td>10-25%</td>\n",
       "    </tr>\n",
       "  </tbody>\n",
       "</table>\n",
       "<p>203 rows × 4 columns</p>\n",
       "</div>"
      ],
      "text/plain": [
       "      ano departamento  rateAlarma rateAlarma.cut\n",
       "0    2012     AMAZONAS    0.126273         10-25%\n",
       "1    2012       ANCASH    0.021111        less10%\n",
       "2    2012    CAJAMARCA    0.177215         10-25%\n",
       "3    2012      HUANUCO    0.309237          25-50\n",
       "4    2012        JUNIN    0.061286        less10%\n",
       "..    ...          ...         ...            ...\n",
       "198  2022        PIURA    0.146407         10-25%\n",
       "199  2022         PUNO    0.000000        less10%\n",
       "200  2022   SAN MARTIN    0.280892          25-50\n",
       "201  2022       TUMBES    0.054878        less10%\n",
       "202  2022      UCAYALI    0.186795         10-25%\n",
       "\n",
       "[203 rows x 4 columns]"
      ]
     },
     "execution_count": 39,
     "metadata": {},
     "output_type": "execute_result"
    }
   ],
   "source": [
    "preg_d"
   ]
  },
  {
   "cell_type": "code",
   "execution_count": 40,
   "metadata": {
    "id": "ctphR1lwIbmH"
   },
   "outputs": [
    {
     "data": {
      "image/png": "[encoded data removed]",
      "text/plain": [
       "<Figure size 1200x1000 with 2 Axes>"
      ]
     },
     "metadata": {},
     "output_type": "display_data"
    }
   ],
   "source": [
    "import seaborn as sns\n",
    "import matplotlib.pyplot as plt\n",
    "\n",
    "# Suponiendo que tu DataFrame se llama df\n",
    "heatmap_data = preg_d.pivot(index=\"departamento\", columns=\"ano\", values=\"rateAlarma\")\n",
    "\n",
    "plt.figure(figsize=(12, 10))  # Ajusta el tamaño según sea necesario\n",
    "sns.heatmap(heatmap_data, cmap=\"Reds\")\n",
    "plt.xticks(rotation=60)\n",
    "plt.show()"
   ]
  },
  {
   "cell_type": "markdown",
   "metadata": {
    "id": "DckpjHxPLhPI"
   },
   "source": [
    "Análisis: ocurre que con el paso del tiempo, la cantidad de casos alarmantes no graves ha ido disminuyendo en relación a los asintomáticos. Esto indica que ha habido una mayor incidencia de la \"transmisión asintomática\", que implica una menor gravedad de los casos de dengue con el paso del tiempo. Por ejemplo, si se compara el 2014 en con los años mas recientes, es posible reconocer que a nivel nacional resulta menos grave un contagio de dengue, pues si bien una persona se puede contagiar, ello no implica que se convierta en un caso alarmante. Lo que llama la antención también, es que todavía existen departamentos en los que todaví existe una mayor tasa de casos alarmantes no graves, como Ancash o Callao."
   ]
  },
  {
   "cell_type": "markdown",
   "metadata": {
    "id": "DOwaQw80LjED"
   },
   "source": [
    "*...Fin de la tarea.*\n",
    "-Ricardo."
   ]
  },
  {
   "cell_type": "code",
   "execution_count": null,
   "metadata": {},
   "outputs": [],
   "source": []
  },
  {
   "cell_type": "code",
   "execution_count": null,
   "metadata": {},
   "outputs": [],
   "source": []
  },
  {
   "cell_type": "code",
   "execution_count": null,
   "metadata": {},
   "outputs": [],
   "source": []
  }
 ],
 "metadata": {
  "colab": {
   "provenance": []
  },
  "kernelspec": {
   "display_name": "Python 3 (ipykernel)",
   "language": "python",
   "name": "python3"
  },
  "language_info": {
   "codemirror_mode": {
    "name": "ipython",
    "version": 3
   },
   "file_extension": ".py",
   "mimetype": "text/x-python",
   "name": "python",
   "nbconvert_exporter": "python",
   "pygments_lexer": "ipython3",
   "version": "3.11.3"
  }
 },
 "nbformat": 4,
 "nbformat_minor": 1
}
